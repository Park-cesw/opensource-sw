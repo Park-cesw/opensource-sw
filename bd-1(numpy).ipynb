{
 "cells": [
  {
   "cell_type": "code",
   "execution_count": 1,
   "metadata": {},
   "outputs": [
    {
     "name": "stdout",
     "output_type": "stream",
     "text": [
      "<class 'tuple'>\n"
     ]
    }
   ],
   "source": [
    "d = (1,2,3,4,5)\n",
    "print(type(d))"
   ]
  },
  {
   "cell_type": "code",
   "execution_count": 2,
   "metadata": {},
   "outputs": [
    {
     "name": "stdout",
     "output_type": "stream",
     "text": [
      "5\n"
     ]
    }
   ],
   "source": [
    "a = int(input())\n",
    "print(a)"
   ]
  },
  {
   "cell_type": "code",
   "execution_count": 3,
   "metadata": {},
   "outputs": [
    {
     "name": "stdout",
     "output_type": "stream",
     "text": [
      "[5.5 7. ]\n",
      "20.0\n",
      "2.1213203435596424\n",
      "[ 1.   3.5  7.5 13.  20. ]\n",
      "[1.  2.5 4.  5.5 7. ]\n",
      "[[ 2.]\n",
      " [ 5.]\n",
      " [ 8.]\n",
      " [11.]\n",
      " [14.]]\n",
      "[[ 1.  ]\n",
      " [ 6.25]\n",
      " [16.  ]\n",
      " [30.25]\n",
      " [49.  ]]\n",
      "[[1.        ]\n",
      " [1.58113883]\n",
      " [2.        ]\n",
      " [2.34520788]\n",
      " [2.64575131]]\n"
     ]
    }
   ],
   "source": [
    "import numpy as np # np라는 이름으로 축약하여 numpy를 실행하겠다.\n",
    "\n",
    "a = np.array([1, 2.5, 4, 5.5, 7.0])\n",
    "a_re = a.reshape(5,1)\n",
    "\n",
    "#a[3:]\n",
    "\"\"\"\n",
    "세 함수 한 번에 출력 안 됨 - 마지막 함수만 출력되는 것 같음\n",
    "print 괄호 안에 함수값 같이 넣어주면 같이 쓸 수 있음\n",
    "함수 이름만 쓰면 동작만 되는데 그냥 마지막 거 같이 출력해주는 듯\n",
    "\"\"\"\n",
    "#a.sum() # np.array로 생성한 변수 a의 합을 출력\n",
    "#a.std() # np.array로 생성한 변수 a의 표준편차를 출력\n",
    "#a.cumsum() # np.array로 생성한 변수 a의 누적 합을 출력\n",
    "\n",
    "\"\"\"\n",
    "print 할 때 정수형이 실수형으로 변환되면서 생기는 0이 출력되지 않고 공백처리됨\n",
    ",로 구분이 안 되고 출력됨 - 다른 코드들 찾아봐도 이런 거 보니까 원래 구분 없이 출력되는 듯\n",
    "아래 코드에서 실험해본 바로는 정수형, 실수형만 각각 있을 때는 괜찮은데 섞이면 문제 발생\n",
    "sep=\"\" 함수로 출력해보려 했는데 numpy 배열 안에서는 sep이 동작 안하는 듯 함 \",\"로 입력해도 그대로\n",
    "reshape으로 나눠서 출력 해보니 0이 출력 X, 공백처리된 게 맞는 듯 함 왤까...?\n",
    "!!! : 가장 긴 숫자를 기점으로 전체 공백을 맞추고 소수점 위치를 그에 맞춰서 출력\n",
    "\"\"\"\n",
    "\n",
    "print(a[3:])\n",
    "print(a.sum())\n",
    "print(a.std())\n",
    "print(a.cumsum())\n",
    "print(a)\n",
    "print(a_re*2)\n",
    "print(a_re**2)\n",
    "print(np.sqrt(a_re))\n"
   ]
  },
  {
   "cell_type": "code",
   "execution_count": 1,
   "metadata": {},
   "outputs": [
    {
     "name": "stdout",
     "output_type": "stream",
     "text": [
      "[3 6 9]\n",
      "[ 8 11 14]\n",
      "[15 30 45]\n",
      "[0.6 1.2 1.8]\n"
     ]
    }
   ],
   "source": [
    "import numpy as np\n",
    "n1 = np.array([3,6,9])\n",
    "print(n1)\n",
    "print(n1+5)\n",
    "print(n1*5)\n",
    "print(n1/5)"
   ]
  },
  {
   "cell_type": "code",
   "execution_count": 40,
   "metadata": {},
   "outputs": [
    {
     "name": "stdout",
     "output_type": "stream",
     "text": [
      "[[ 1.    2.5   4.    5.5   7.  ]\n",
      " [ 1.    6.25 16.   30.25 49.  ]]\n",
      "[ 2.    8.75 20.   35.75 56.  ]\n",
      "[ 20.  102.5]\n"
     ]
    }
   ],
   "source": [
    "# numpy.ndarray 클래스를 사용하면 각 차원의 축을 명시적으로 참조 가능\n",
    "# 특정한 열 선택 가능\n",
    "b = np.array([a,a**2])\n",
    "print(b)\n",
    "print(b.sum(axis=0)) # 축이 0일 경우 세로 축의 합 출력 - 행을 더함\n",
    "print(b.sum(axis=1)) # 축이 1일 경우 세로 축의 합 출력 - 열을 더함"
   ]
  },
  {
   "cell_type": "code",
   "execution_count": 43,
   "metadata": {},
   "outputs": [
    {
     "name": "stdout",
     "output_type": "stream",
     "text": [
      "[[0 0 0]\n",
      " [0 0 0]]\n"
     ]
    }
   ],
   "source": [
    "c = np.zeros((2,3), dtype = \"l\")\n",
    "# dtype = l : 정수형, f: 복소수형(실수형이랑 같은 말 같음)\n",
    "print(c)"
   ]
  }
 ],
 "metadata": {
  "interpreter": {
   "hash": "ceb1365a12d57aa086bd8130a518f931eec64a5e74409a7e0bf6d177c24d9089"
  },
  "kernelspec": {
   "display_name": "Python 3.9.1 64-bit",
   "language": "python",
   "name": "python3"
  },
  "language_info": {
   "codemirror_mode": {
    "name": "ipython",
    "version": 3
   },
   "file_extension": ".py",
   "mimetype": "text/x-python",
   "name": "python",
   "nbconvert_exporter": "python",
   "pygments_lexer": "ipython3",
   "version": "3.9.1"
  },
  "orig_nbformat": 4
 },
 "nbformat": 4,
 "nbformat_minor": 2
}
