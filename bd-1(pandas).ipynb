{
 "cells": [
  {
   "cell_type": "code",
   "execution_count": 4,
   "metadata": {},
   "outputs": [
    {
     "name": "stdout",
     "output_type": "stream",
     "text": [
      "<class 'pandas.core.series.Series'>\n",
      "2022-03-04    3000\n",
      "2022-03-05    3200\n",
      "2022-03-06    2700\n",
      "dtype: int64\n",
      "2022-03-05    3200\n",
      "2022-03-06    2700\n",
      "dtype: int64\n"
     ]
    }
   ],
   "source": [
    "# Series - 컬럼이 1개인 경우, value와 index로 표현\n",
    "import pandas as pd\n",
    "import numpy as np\n",
    "ps = pd.Series([3000, 3200, 2700], index = ['2022-03-04', '2022-03-05', '2022-03-06'])\n",
    "print(type(ps)) # type 출력\n",
    "print(ps) # 변수 ps 실행\n",
    "print(ps[1:])"
   ]
  },
  {
   "cell_type": "code",
   "execution_count": 5,
   "metadata": {},
   "outputs": [
    {
     "name": "stdout",
     "output_type": "stream",
     "text": [
      "   numbers\n",
      "a      100\n",
      "b      150\n",
      "c      200\n",
      "d      250\n",
      "e      300\n",
      "Index(['a', 'b', 'c', 'd', 'e'], dtype='object')\n",
      "Index(['numbers'], dtype='object')\n",
      "numbers    200\n",
      "Name: c, dtype: int64\n"
     ]
    }
   ],
   "source": [
    "# Data Frame - 컬럼이 다수인 데이터, value, index와 label(colum)로 표현\n",
    "import pandas as pd\n",
    "import numpy as np\n",
    "df = pd.DataFrame([100,150,200,250,300], columns = ['numbers'], index = ['a', 'b', 'c', 'd', 'e'])\n",
    "print(df)\n",
    "print(df.index) # DataFrame의 index를 표시\n",
    "print(df.columns) # DataFrame의 columns를 표시\n",
    "# ix 모듈이 안 깔리는 듯 함 - 가독성 문제로 iloc, loc 두 개로 나뉨\n",
    "# loc : 명칭 기반, iloc : 위치 기반, ix : 둘 다 제공이므로 여기서는 loc으로 대체\n",
    "print(df.loc['c']) # DataFrame의 index 중 c에 해당하는 값 표시"
   ]
  }
 ],
 "metadata": {
  "interpreter": {
   "hash": "ceb1365a12d57aa086bd8130a518f931eec64a5e74409a7e0bf6d177c24d9089"
  },
  "kernelspec": {
   "display_name": "Python 3.9.1 64-bit",
   "language": "python",
   "name": "python3"
  },
  "language_info": {
   "codemirror_mode": {
    "name": "ipython",
    "version": 3
   },
   "file_extension": ".py",
   "mimetype": "text/x-python",
   "name": "python",
   "nbconvert_exporter": "python",
   "pygments_lexer": "ipython3",
   "version": "3.9.1"
  },
  "orig_nbformat": 4
 },
 "nbformat": 4,
 "nbformat_minor": 2
}
